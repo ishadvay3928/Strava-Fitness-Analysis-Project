{
  "nbformat": 4,
  "nbformat_minor": 0,
  "metadata": {
    "colab": {
      "private_outputs": true,
      "provenance": [],
      "collapsed_sections": [
        "vncDsAP0Gaoa",
        "FJNUwmbgGyua",
        "w6K7xa23Elo4",
        "yQaldy8SH6Dl",
        "PH-0ReGfmX4f",
        "mDgbUHAGgjLW",
        "O_i_v8NEhb9l",
        "HhfV-JJviCcP",
        "Y3lxredqlCYt",
        "3RnN4peoiCZX",
        "x71ZqKXriCWQ",
        "7hBIi_osiCS2",
        "JlHwYmJAmNHm",
        "35m5QtbWiB9F",
        "PoPl-ycgm1ru",
        "H0kj-8xxnORC",
        "nA9Y7ga8ng1Z",
        "PBTbrJXOngz2",
        "u3PMJOP6ngxN",
        "dauF4eBmngu3",
        "bKJF3rekwFvQ",
        "MSa1f5Uengrz",
        "GF8Ens_Soomf",
        "0wOQAZs5pc--",
        "K5QZ13OEpz2H",
        "lQ7QKXXCp7Bj",
        "448CDAPjqfQr",
        "KSlN3yHqYklG",
        "t6dVpIINYklI",
        "ijmpgYnKYklI",
        "-JiQyfWJYklI",
        "EM7whBJCYoAo",
        "fge-S5ZAYoAp",
        "85gYPyotYoAp",
        "RoGjAbkUYoAp",
        "4Of9eVA-YrdM",
        "iky9q4vBYrdO",
        "F6T5p64dYrdO",
        "y-Ehk30pYrdP",
        "bamQiAODYuh1",
        "QHF8YVU7Yuh3",
        "GwzvFGzlYuh3",
        "qYpmQ266Yuh3",
        "OH-pJp9IphqM",
        "bbFf2-_FphqN",
        "_ouA3fa0phqN",
        "Seke61FWphqN",
        "PIIx-8_IphqN",
        "t27r6nlMphqO",
        "r2jJGEOYphqO",
        "b0JNsNcRphqO",
        "BZR9WyysphqO",
        "jj7wYXLtphqO",
        "eZrbJ2SmphqO",
        "rFu4xreNphqO",
        "YJ55k-q6phqO",
        "gCFgpxoyphqP",
        "OVtJsKN_phqQ",
        "lssrdh5qphqQ",
        "U2RJ9gkRphqQ",
        "1M8mcRywphqQ",
        "tgIPom80phqQ",
        "JMzcOPDDphqR",
        "x-EpHcCOp1ci",
        "X_VqEhTip1ck",
        "8zGJKyg5p1ck",
        "PVzmfK_Ep1ck",
        "n3dbpmDWp1ck",
        "ylSl6qgtp1ck",
        "ZWILFDl5p1ck",
        "M7G43BXep1ck",
        "Ag9LCva-p1cl",
        "E6MkPsBcp1cl",
        "2cELzS2fp1cl",
        "3MPXvC8up1cl",
        "NC_X3p0fY2L0",
        "UV0SzAkaZNRQ",
        "YPEH6qLeZNRQ",
        "q29F0dvdveiT",
        "EXh0U9oCveiU",
        "22aHeOlLveiV",
        "JcMwzZxoAimU",
        "8G2x9gOozGDZ",
        "gCX9965dhzqZ",
        "gIfDvo9L0UH2"
      ]
    },
    "kernelspec": {
      "name": "python3",
      "display_name": "Python 3"
    },
    "language_info": {
      "name": "python"
    }
  },
  "cells": [
    {
      "cell_type": "markdown",
      "source": [
        "## ***1. Know Your Data***"
      ],
      "metadata": {
        "id": "HhfV-JJviCcP"
      }
    },
    {
      "cell_type": "markdown",
      "source": [
        "### Import Libraries"
      ],
      "metadata": {
        "id": "Y3lxredqlCYt"
      }
    },
    {
      "cell_type": "code",
      "source": [
        "# Import Libraries\n",
        "import numpy as np\n",
        "import pandas as pd\n",
        "import matplotlib.pyplot as plt\n",
        "%matplotlib inline\n",
        "import seaborn as sns"
      ],
      "metadata": {
        "id": "M8Vqi-pPk-HR"
      },
      "execution_count": null,
      "outputs": []
    },
    {
      "cell_type": "markdown",
      "source": [
        "### Dataset Loading"
      ],
      "metadata": {
        "id": "3RnN4peoiCZX"
      }
    },
    {
      "cell_type": "code",
      "source": [
        "# Load Dataset\n",
        "df = pd.read_csv(\"/content/Strava Full Merged Data.csv\")"
      ],
      "metadata": {
        "id": "4CkvbW_SlZ_R"
      },
      "execution_count": null,
      "outputs": []
    },
    {
      "cell_type": "markdown",
      "source": [
        "### Dataset First View"
      ],
      "metadata": {
        "id": "x71ZqKXriCWQ"
      }
    },
    {
      "cell_type": "code",
      "source": [
        "# Dataset First Look\n",
        "df.head()"
      ],
      "metadata": {
        "id": "LWNFOSvLl09H"
      },
      "execution_count": null,
      "outputs": []
    },
    {
      "cell_type": "markdown",
      "source": [
        "### Dataset Rows & Columns count"
      ],
      "metadata": {
        "id": "7hBIi_osiCS2"
      }
    },
    {
      "cell_type": "code",
      "source": [
        "# Dataset Rows & Columns count\n",
        "df.shape"
      ],
      "metadata": {
        "id": "Kllu7SJgmLij"
      },
      "execution_count": null,
      "outputs": []
    },
    {
      "cell_type": "markdown",
      "source": [
        "### Dataset Information"
      ],
      "metadata": {
        "id": "JlHwYmJAmNHm"
      }
    },
    {
      "cell_type": "code",
      "source": [
        "# Dataset Info\n",
        "df.info()\n",
        "\n"
      ],
      "metadata": {
        "id": "e9hRXRi6meOf"
      },
      "execution_count": null,
      "outputs": []
    },
    {
      "cell_type": "markdown",
      "source": [
        "## ***2. Understanding Your Variables***"
      ],
      "metadata": {
        "id": "nA9Y7ga8ng1Z"
      }
    },
    {
      "cell_type": "code",
      "source": [
        "# Dataset Columns\n",
        "df.columns"
      ],
      "metadata": {
        "id": "j7xfkqrt5Ag5"
      },
      "execution_count": null,
      "outputs": []
    },
    {
      "cell_type": "code",
      "source": [
        "# Dataset Describe\n",
        "df.describe()"
      ],
      "metadata": {
        "id": "DnOaZdaE5Q5t"
      },
      "execution_count": null,
      "outputs": []
    },
    {
      "cell_type": "markdown",
      "source": [
        "### Check Unique Values for each variable."
      ],
      "metadata": {
        "id": "u3PMJOP6ngxN"
      }
    },
    {
      "cell_type": "code",
      "source": [
        "# Check Unique Values for each variable.\n",
        "df.nunique()"
      ],
      "metadata": {
        "id": "zms12Yq5n-jE"
      },
      "execution_count": null,
      "outputs": []
    },
    {
      "cell_type": "markdown",
      "source": [
        "## ***4. Data Vizualization, Storytelling & Experimenting with charts : Understand the relationships between variables***"
      ],
      "metadata": {
        "id": "GF8Ens_Soomf"
      }
    },
    {
      "cell_type": "markdown",
      "source": [
        "#### Chart - 1 (Distribution of Total Steps)"
      ],
      "metadata": {
        "id": "0wOQAZs5pc--"
      }
    },
    {
      "cell_type": "code",
      "source": [
        "# Distribution of Total Steps\n",
        "# Select top columns for meaningful insights\n",
        "key_columns = [\n",
        "    'TotalSteps', 'TotalDistance', 'VeryActiveDistance',\n",
        "    'ModeratelyActiveDistance', 'LightActiveDistance',\n",
        "    'SedentaryActiveDistance', 'VeryActiveMinutes',\n",
        "    'FairlyActiveMinutes', 'LightlyActiveMinutes',\n",
        "    'SedentaryMinutes'\n",
        "]\n",
        "\n",
        "# Drop rows with all NaNs in selected columns\n",
        "df_cleaned = df[key_columns].dropna(how='all')\n",
        "\n",
        "# Histogram of Total Steps\n",
        "plt.figure()\n",
        "sns.histplot(df_cleaned['TotalSteps'], bins=30, kde=True, color='skyblue')\n",
        "plt.title('Distribution of Total Steps')\n",
        "plt.show()\n"
      ],
      "metadata": {
        "id": "7v_ESjsspbW7"
      },
      "execution_count": null,
      "outputs": []
    },
    {
      "cell_type": "markdown",
      "source": [
        "##### 1. Why did you pick the specific chart?"
      ],
      "metadata": {
        "id": "K5QZ13OEpz2H"
      }
    },
    {
      "cell_type": "markdown",
      "source": [
        "This histogram is used to visualize because it effectively shows the frequency distribution of a single continuous variable, - \"TotalSteps\"."
      ],
      "metadata": {
        "id": "XESiWehPqBRc"
      }
    },
    {
      "cell_type": "markdown",
      "source": [
        "##### 2. What is/are the insight(s) found from the chart?"
      ],
      "metadata": {
        "id": "lQ7QKXXCp7Bj"
      }
    },
    {
      "cell_type": "markdown",
      "source": [
        "The daily total steps are right-skewed, with most people's steps falling between 5,000 and 10,000, while a smaller group is exceptionally active.\n"
      ],
      "metadata": {
        "id": "C_j1G7yiqdRP"
      }
    },
    {
      "cell_type": "markdown",
      "source": [
        "##### 3. Will the gained insights help creating a positive business impact?\n",
        "Are there any insights that lead to negative growth? Justify with specific reason."
      ],
      "metadata": {
        "id": "448CDAPjqfQr"
      }
    },
    {
      "cell_type": "markdown",
      "source": [
        "Yes, it allows for targeted user strategies (e.g., motivating the majority) for positive growth; however, ignoring the significant number of users with low step counts could lead to churn and negative growth."
      ],
      "metadata": {
        "id": "3cspy4FjqxJW"
      }
    },
    {
      "cell_type": "markdown",
      "source": [
        "#### Chart - 2 (KDE plot of Active Minutes)"
      ],
      "metadata": {
        "id": "KSlN3yHqYklG"
      }
    },
    {
      "cell_type": "code",
      "source": [
        "# KDE plot of Active Minutes\n",
        "plt.figure()\n",
        "for col in ['VeryActiveMinutes', 'FairlyActiveMinutes', 'LightlyActiveMinutes']:\n",
        "    sns.kdeplot(df_cleaned[col], label=col)\n",
        "plt.legend()\n",
        "plt.title('KDE Plot of Active Minutes')\n",
        "plt.xlabel('Minutes')\n",
        "plt.ylabel('Density')\n",
        "plt.grid(True)\n",
        "plt.show()"
      ],
      "metadata": {
        "id": "R4YgtaqtYklH"
      },
      "execution_count": null,
      "outputs": []
    },
    {
      "cell_type": "markdown",
      "source": [
        "##### 1. Why did you pick the specific chart?"
      ],
      "metadata": {
        "id": "t6dVpIINYklI"
      }
    },
    {
      "cell_type": "markdown",
      "source": [
        "This Kernel Density Estimate (KDE) plot is used to effectively compare the probability distributions of multiple continuous variables (different activity levels) on the same scale."
      ],
      "metadata": {
        "id": "5aaW0BYyYklI"
      }
    },
    {
      "cell_type": "markdown",
      "source": [
        "##### 2. What is/are the insight(s) found from the chart?"
      ],
      "metadata": {
        "id": "ijmpgYnKYklI"
      }
    },
    {
      "cell_type": "markdown",
      "source": [
        "The insight is that users spend significantly more time in \"LightlyActiveMinutes,\" which is broadly distributed, while \"VeryActiveMinutes\" and \"FairlyActiveMinutes\" are typically very low or zero for most users."
      ],
      "metadata": {
        "id": "PSx9atu2YklI"
      }
    },
    {
      "cell_type": "markdown",
      "source": [
        "##### 3. Will the gained insights help creating a positive business impact?\n",
        "Are there any insights that lead to negative growth? Justify with specific reason."
      ],
      "metadata": {
        "id": "-JiQyfWJYklI"
      }
    },
    {
      "cell_type": "markdown",
      "source": [
        "Yes, this insight can drive positive impact by creating business strategies around encouraging more achievable \"LightlyActiveMinutes\"; conversely, focusing only on high-intensity activities could cause negative growth by demotivating the majority of users who are not accustomed to it."
      ],
      "metadata": {
        "id": "BcBbebzrYklV"
      }
    },
    {
      "cell_type": "markdown",
      "source": [
        "#### Chart - 3 (Timeline of Total steps and calories)"
      ],
      "metadata": {
        "id": "EM7whBJCYoAo"
      }
    },
    {
      "cell_type": "code",
      "source": [
        "# timeline of Total steps and calories\n",
        "# Group and aggregate daily sums\n",
        "metrics = ['TotalSteps', 'daily_calories']\n",
        "df_daily = df.groupby('ActivityDate')[metrics].sum().reset_index()\n",
        "\n",
        "# Plotting with Matplotlib\n",
        "plt.figure(figsize=(12, 6))\n",
        "\n",
        "for col in metrics:\n",
        "    plt.plot(df_daily['ActivityDate'], df_daily[col], label=col)\n",
        "\n",
        "plt.title('Timeline of Total Steps and Calories')\n",
        "plt.xlabel('Activity Date')\n",
        "plt.ylabel('Metric Value')\n",
        "plt.legend()\n",
        "plt.xticks(rotation=45)\n",
        "plt.tight_layout()\n",
        "plt.grid(True)\n",
        "plt.show()"
      ],
      "metadata": {
        "id": "brLsARjwl4Mn"
      },
      "execution_count": null,
      "outputs": []
    },
    {
      "cell_type": "markdown",
      "source": [
        "##### 1. Why did you pick the specific chart?"
      ],
      "metadata": {
        "id": "fge-S5ZAYoAp"
      }
    },
    {
      "cell_type": "markdown",
      "source": [
        "This line chart was selected to effectively track and compare the trends of two related metrics, Total Steps and Calories, over the continuous variable of time."
      ],
      "metadata": {
        "id": "5dBItgRVYoAp"
      }
    },
    {
      "cell_type": "markdown",
      "source": [
        "##### 2. What is/are the insight(s) found from the chart?"
      ],
      "metadata": {
        "id": "85gYPyotYoAp"
      }
    },
    {
      "cell_type": "markdown",
      "source": [
        "The chart reveals a positive correlation between Total Steps and calories burned, with both metrics showing a significant, simultaneous decline in activity after May 9th."
      ],
      "metadata": {
        "id": "4jstXR6OYoAp"
      }
    },
    {
      "cell_type": "markdown",
      "source": [
        "##### 3. Will the gained insights help creating a positive business impact?\n",
        "Are there any insights that lead to negative growth? Justify with specific reason."
      ],
      "metadata": {
        "id": "RoGjAbkUYoAp"
      }
    },
    {
      "cell_type": "markdown",
      "source": [
        "Yes, this insight can create a positive impact by identifying user disengagement (the drop-off) to trigger retention campaigns; failing to address this drop would lead to negative growth as it is a clear indicator of potential user churn."
      ],
      "metadata": {
        "id": "zfJ8IqMcYoAp"
      }
    },
    {
      "cell_type": "markdown",
      "source": [
        "#### Chart - 4 (Violin Plot of LightlyActiveMinutes)"
      ],
      "metadata": {
        "id": "4Of9eVA-YrdM"
      }
    },
    {
      "cell_type": "code",
      "source": [
        "# Violin Plot of LightlyActiveMinutes\n",
        "plt.figure()\n",
        "sns.violinplot(x=df_cleaned['LightlyActiveMinutes'], color='orchid')\n",
        "plt.title('Violin Plot of Lightly Active Minutes')\n",
        "plt.xlabel('Minutes')\n",
        "plt.tight_layout()\n",
        "plt.show()"
      ],
      "metadata": {
        "id": "irlUoxc8YrdO"
      },
      "execution_count": null,
      "outputs": []
    },
    {
      "cell_type": "markdown",
      "source": [
        "##### 1. Why did you pick the specific chart?"
      ],
      "metadata": {
        "id": "iky9q4vBYrdO"
      }
    },
    {
      "cell_type": "markdown",
      "source": [
        "This violin plot was chosen to show both the probability density and key statistical summaries (like median and interquartile range) of the \"Lightly Active Minutes\" data."
      ],
      "metadata": {
        "id": "aJRCwT6DYrdO"
      }
    },
    {
      "cell_type": "markdown",
      "source": [
        "##### 2. What is/are the insight(s) found from the chart?"
      ],
      "metadata": {
        "id": "F6T5p64dYrdO"
      }
    },
    {
      "cell_type": "markdown",
      "source": [
        "The data shows a wide, right-skewed distribution with a median of roughly 200 minutes, indicating that while many users are active in this range, there's significant variability and a tail of highly active users."
      ],
      "metadata": {
        "id": "Xx8WAJvtYrdO"
      }
    },
    {
      "cell_type": "markdown",
      "source": [
        "##### 3. Will the gained insights help creating a positive business impact?\n",
        "Are there any insights that lead to negative growth? Justify with specific reason."
      ],
      "metadata": {
        "id": "y-Ehk30pYrdP"
      }
    },
    {
      "cell_type": "markdown",
      "source": [
        "Yes, this insight allows for creating engaging content for the typical user (around 200 mins) for positive impact; however, ignoring the smaller group with very low activity could lead to negative growth due to churn from this disengaged segment."
      ],
      "metadata": {
        "id": "jLNxxz7MYrdP"
      }
    },
    {
      "cell_type": "markdown",
      "source": [
        "#### Chart - 5 (Total Time Spent in Different Activity Levels)"
      ],
      "metadata": {
        "id": "bamQiAODYuh1"
      }
    },
    {
      "cell_type": "code",
      "source": [
        "# Total Time Spent in Different Activity Levels\n",
        "activity_mins = ['VeryActiveMinutes', 'FairlyActiveMinutes', 'LightlyActiveMinutes', 'SedentaryMinutes']\n",
        "activity_sum = df_cleaned[activity_mins].sum().sort_values(ascending=False)\n",
        "\n",
        "plt.figure(figsize=(8, 5))\n",
        "sns.barplot(x=activity_sum.index, y=activity_sum.values, palette='pastel')\n",
        "plt.title('Total Time Spent in Different Activity Levels')\n",
        "plt.ylabel('Total Minutes')\n",
        "plt.xlabel('')\n",
        "plt.xticks(rotation=45)\n",
        "plt.tight_layout()\n",
        "plt.grid(axis='y')\n",
        "plt.show()"
      ],
      "metadata": {
        "id": "TIJwrbroYuh3"
      },
      "execution_count": null,
      "outputs": []
    },
    {
      "cell_type": "markdown",
      "source": [
        "##### 1. Why did you pick the specific chart?"
      ],
      "metadata": {
        "id": "QHF8YVU7Yuh3"
      }
    },
    {
      "cell_type": "markdown",
      "source": [
        "A bar chart was chosen as it effectively compares the total time spent across distinct activity levels."
      ],
      "metadata": {
        "id": "dcxuIMRPYuh3"
      }
    },
    {
      "cell_type": "markdown",
      "source": [
        "##### 2. What is/are the insight(s) found from the chart?"
      ],
      "metadata": {
        "id": "GwzvFGzlYuh3"
      }
    },
    {
      "cell_type": "markdown",
      "source": [
        "The chart reveals a significantly higher amount of time spent in \"SedentaryMinutes\" compared to \"LightlyActiveMinutes,\" \"VeryActiveMinutes,\" and \"FairlyActiveMinutes,\" with \"VeryActiveMinutes\" and \"FairlyActiveMinutes\" being negligible in comparison to the other two categories."
      ],
      "metadata": {
        "id": "uyqkiB8YYuh3"
      }
    },
    {
      "cell_type": "markdown",
      "source": [
        "##### 3. Will the gained insights help creating a positive business impact?\n",
        "Are there any insights that lead to negative growth? Justify with specific reason."
      ],
      "metadata": {
        "id": "qYpmQ266Yuh3"
      }
    },
    {
      "cell_type": "markdown",
      "source": [
        "Yes, the gained insights can help create a positive business impact by highlighting the need for products/services promoting increased activity (e.g., fitness trackers, active lifestyle programs), as the overwhelmingly high \"SedentaryMinutes\" indicate a large untapped market for solutions encouraging movement; there are no insights that inherently lead to negative growth, as the data simply reflects current activity levels, which can be seen as an opportunity for businesses addressing inactivity."
      ],
      "metadata": {
        "id": "_WtzZ_hCYuh4"
      }
    },
    {
      "cell_type": "markdown",
      "source": [
        "#### Chart - 6 (Total Steps vs Total Distance )"
      ],
      "metadata": {
        "id": "OH-pJp9IphqM"
      }
    },
    {
      "cell_type": "code",
      "source": [
        "# Total Steps vs Total Distance\n",
        "plt.figure(figsize=(8,6))\n",
        "plt.scatter(df_cleaned['TotalSteps'], df_cleaned['TotalDistance'], alpha=0.6, color='teal')\n",
        "\n",
        "plt.title('Total Steps vs Total Distance')\n",
        "plt.xlabel('Total Steps')\n",
        "plt.ylabel('Total Distance')\n",
        "plt.grid(True)\n",
        "plt.tight_layout()\n",
        "plt.show()\n"
      ],
      "metadata": {
        "id": "EgigTmw_uHeE"
      },
      "execution_count": null,
      "outputs": []
    },
    {
      "cell_type": "markdown",
      "source": [
        "##### 1. Why did you pick the specific chart?"
      ],
      "metadata": {
        "id": "bbFf2-_FphqN"
      }
    },
    {
      "cell_type": "markdown",
      "source": [
        "A scatter plot was chosen to visualize the relationship between \"Total Steps\" and \"Total Distance.\""
      ],
      "metadata": {
        "id": "loh7H2nzphqN"
      }
    },
    {
      "cell_type": "markdown",
      "source": [
        "##### 2. What is/are the insight(s) found from the chart?"
      ],
      "metadata": {
        "id": "_ouA3fa0phqN"
      }
    },
    {
      "cell_type": "markdown",
      "source": [
        "The chart shows a strong positive linear correlation between total steps and total distance, indicating that as the number of steps increases, the total distance covered also increases proportionally."
      ],
      "metadata": {
        "id": "VECbqPI7phqN"
      }
    },
    {
      "cell_type": "markdown",
      "source": [
        "##### 3. Will the gained insights help creating a positive business impact?\n",
        "Are there any insights that lead to negative growth? Justify with specific reason."
      ],
      "metadata": {
        "id": "Seke61FWphqN"
      }
    },
    {
      "cell_type": "markdown",
      "source": [
        "Yes, the gained insights can lead to a positive business impact by helping fitness tracking companies refine algorithms for distance estimation, validate sensor accuracy, and develop more personalized health recommendations based on step count; there are no insights that directly lead to negative growth, as the chart simply illustrates a well-understood physiological relationship."
      ],
      "metadata": {
        "id": "DW4_bGpfphqN"
      }
    },
    {
      "cell_type": "markdown",
      "source": [
        "#### Chart - 7 (Activity-Based Average Distance Breakdown)"
      ],
      "metadata": {
        "id": "PIIx-8_IphqN"
      }
    },
    {
      "cell_type": "code",
      "source": [
        "# Activity-Based Average Distance Breakdown\n",
        "\n",
        "# Calculate mean distances\n",
        "means = df_cleaned[['VeryActiveDistance', 'ModeratelyActiveDistance', 'LightActiveDistance']].mean()\n",
        "\n",
        "# Plot pie chart\n",
        "plt.figure(figsize=(8, 6))\n",
        "colors = ['darkgreen', 'seagreen', 'lightgreen']\n",
        "plt.pie(means.values, labels=means.index, autopct='%1.1f%%', startangle=140, colors=colors)\n",
        "\n",
        "plt.title('Activity-Based Average Distance Breakdown')\n",
        "plt.tight_layout()\n",
        "plt.show()\n"
      ],
      "metadata": {
        "id": "RsLKfbYZ0dJJ"
      },
      "execution_count": null,
      "outputs": []
    },
    {
      "cell_type": "markdown",
      "source": [
        "##### 1. Why did you pick the specific chart?"
      ],
      "metadata": {
        "id": "t27r6nlMphqO"
      }
    },
    {
      "cell_type": "markdown",
      "source": [
        "A pie chart was selected to illustrate the proportional breakdown of average distance covered across different activity levels."
      ],
      "metadata": {
        "id": "iv6ro40sphqO"
      }
    },
    {
      "cell_type": "markdown",
      "source": [
        "##### 2. What is/are the insight(s) found from the chart?"
      ],
      "metadata": {
        "id": "r2jJGEOYphqO"
      }
    },
    {
      "cell_type": "markdown",
      "source": [
        "The chart reveals that \"LightActiveDistance\" accounts for the majority (61.8%) of the average distance, followed by \"VeryActiveDistance\" (27.6%), and then \"ModeratelyActiveDistance\" (10.7%)."
      ],
      "metadata": {
        "id": "Po6ZPi4hphqO"
      }
    },
    {
      "cell_type": "markdown",
      "source": [
        "##### 3. Will the gained insights help creating a positive business impact?\n",
        "Are there any insights that lead to negative growth? Justify with specific reason."
      ],
      "metadata": {
        "id": "b0JNsNcRphqO"
      }
    },
    {
      "cell_type": "markdown",
      "source": [
        "Yes, The gained insights can positively impact business by indicating a larger consumer base engaged in light activity, allowing for targeted marketing of products and services catering to this segment (e.g., comfortable walking shoes, beginner-friendly fitness apps); there are no insights that inherently lead to negative growth, as the data simply presents a distribution of activity levels which can be leveraged for strategic product development and marketing."
      ],
      "metadata": {
        "id": "xvSq8iUTphqO"
      }
    },
    {
      "cell_type": "markdown",
      "source": [
        "#### Chart - 8 (Total Steps vs Active Minutes)"
      ],
      "metadata": {
        "id": "BZR9WyysphqO"
      }
    },
    {
      "cell_type": "code",
      "source": [
        "# Total Steps vs Active Minutes\n",
        "\n",
        "plt.figure(figsize=(10, 5))\n",
        "\n",
        "# Create scatter plot with color based on FairlyActiveMinutes\n",
        "sc = plt.scatter(\n",
        "    df_cleaned['TotalSteps'],\n",
        "    df_cleaned['VeryActiveMinutes'],\n",
        "    c=df_cleaned['FairlyActiveMinutes'],\n",
        "    cmap='viridis',\n",
        "    alpha=0.7\n",
        ")\n",
        "\n",
        "plt.colorbar(sc, label='Fairly Active Minutes')  # Add color scale legend\n",
        "plt.title('Total Steps vs Active Minutes')\n",
        "plt.xlabel('Total Steps')\n",
        "plt.ylabel('Very Active Minutes')\n",
        "plt.grid(True)\n",
        "plt.tight_layout()\n",
        "plt.show()\n"
      ],
      "metadata": {
        "id": "xLcKBK9pwf74"
      },
      "execution_count": null,
      "outputs": []
    },
    {
      "cell_type": "markdown",
      "source": [
        "##### 1. Why did you pick the specific chart?"
      ],
      "metadata": {
        "id": "jj7wYXLtphqO"
      }
    },
    {
      "cell_type": "markdown",
      "source": [
        "A scatter plot with a color gradient was chosen to visualize the relationship between \"Total Steps\" and \"Very Active Minutes,\" while also incorporating \"Fairly Active Minutes\" as a third variable through color intensity."
      ],
      "metadata": {
        "id": "Ob8u6rCTphqO"
      }
    },
    {
      "cell_type": "markdown",
      "source": [
        "##### 2. What is/are the insight(s) found from the chart?"
      ],
      "metadata": {
        "id": "eZrbJ2SmphqO"
      }
    },
    {
      "cell_type": "markdown",
      "source": [
        "The chart suggests a general positive correlation between total steps and very active minutes, but with significant spread; furthermore, there appears to be a varied relationship between total steps and fairly active minutes (represented by color), with higher fairly active minutes not consistently correlating with higher total steps or very active minutes, and some individuals having high steps but low active minutes."
      ],
      "metadata": {
        "id": "mZtgC_hjphqO"
      }
    },
    {
      "cell_type": "markdown",
      "source": [
        "##### 3. Will the gained insights help creating a positive business impact?\n",
        "Are there any insights that lead to negative growth? Justify with specific reason."
      ],
      "metadata": {
        "id": "rFu4xreNphqO"
      }
    },
    {
      "cell_type": "markdown",
      "source": [
        "Yes, the gained insights can positively impact business by informing the development of more sophisticated fitness goals and personalized coaching, which can enhance user engagement for fitness apps and wearable devices; there are no insights that inherently lead to negative growth, as the data reveals nuances in activity patterns that can be leveraged for better product design and user experience."
      ],
      "metadata": {
        "id": "ey_0qi68phqO"
      }
    },
    {
      "cell_type": "markdown",
      "source": [
        "#### Chart - 9 (Pairplot of distances)"
      ],
      "metadata": {
        "id": "YJ55k-q6phqO"
      }
    },
    {
      "cell_type": "code",
      "source": [
        "# Pairplot of distances\n",
        "sns.pairplot(df_cleaned[['TotalDistance', 'VeryActiveDistance', 'ModeratelyActiveDistance', 'LightActiveDistance']])\n",
        "plt.suptitle('Pairplot of Distances', y=1.02)\n",
        "plt.tight_layout()\n",
        "plt.show()"
      ],
      "metadata": {
        "id": "B2aS4O1ophqO"
      },
      "execution_count": null,
      "outputs": []
    },
    {
      "cell_type": "markdown",
      "source": [
        "##### 1. Why did you pick the specific chart?"
      ],
      "metadata": {
        "id": "gCFgpxoyphqP"
      }
    },
    {
      "cell_type": "markdown",
      "source": [
        "A pair plot was chosen to visualize the relationships between multiple distance metrics and their individual distributions."
      ],
      "metadata": {
        "id": "TVxDimi2phqP"
      }
    },
    {
      "cell_type": "markdown",
      "source": [
        "##### 2. What is/are the insight(s) found from the chart?"
      ],
      "metadata": {
        "id": "OVtJsKN_phqQ"
      }
    },
    {
      "cell_type": "markdown",
      "source": [
        "The chart reveals strong positive correlations between \"TotalDistance\" and each of \"VeryActiveDistance,\" \"ModeratelyActiveDistance,\" and \"LightActiveDistance,\" indicating that as overall distance increases, distances covered in various activity levels also tend to increase; additionally, the histograms on the diagonal show that most distances are concentrated at lower values, with a few outliers at higher distances, especially for \"TotalDistance.\""
      ],
      "metadata": {
        "id": "ngGi97qjphqQ"
      }
    },
    {
      "cell_type": "markdown",
      "source": [
        "##### 3. Will the gained insights help creating a positive business impact?\n",
        "Are there any insights that lead to negative growth? Justify with specific reason."
      ],
      "metadata": {
        "id": "lssrdh5qphqQ"
      }
    },
    {
      "cell_type": "markdown",
      "source": [
        "Yes, the gained insights can positively impact business by allowing for more accurate segmentation of users based on their activity patterns, enabling the development of targeted fitness programs and products (e.g., beginner programs for light activity, advanced for very active), and optimizing marketing strategies to reach specific user groups; there are no insights that inherently lead to negative growth, as understanding the relationships between these metrics provides opportunities for tailored product development and user engagement."
      ],
      "metadata": {
        "id": "tBpY5ekJphqQ"
      }
    },
    {
      "cell_type": "markdown",
      "source": [
        "#### Chart - 10 (Correlation Heatmap)"
      ],
      "metadata": {
        "id": "U2RJ9gkRphqQ"
      }
    },
    {
      "cell_type": "code",
      "source": [
        "# Correlation Heatmap\n",
        "plt.figure(figsize=(12, 8))\n",
        "corr = df_cleaned.corr()\n",
        "sns.heatmap(corr, annot=True, cmap='coolwarm', fmt=\".2f\")\n",
        "plt.title('Correlation Heatmap')\n",
        "plt.xticks(rotation = 45)\n",
        "plt.tight_layout()\n",
        "plt.show()"
      ],
      "metadata": {
        "id": "GM7a4YP4phqQ"
      },
      "execution_count": null,
      "outputs": []
    },
    {
      "cell_type": "markdown",
      "source": [
        "##### 1. Why did you pick the specific chart?"
      ],
      "metadata": {
        "id": "1M8mcRywphqQ"
      }
    },
    {
      "cell_type": "markdown",
      "source": [
        "A correlation heatmap was chosen to effectively visualize the strength and direction of linear relationships between multiple activity-related variables."
      ],
      "metadata": {
        "id": "8agQvks0phqQ"
      }
    },
    {
      "cell_type": "markdown",
      "source": [
        "##### 2. What is/are the insight(s) found from the chart?"
      ],
      "metadata": {
        "id": "tgIPom80phqQ"
      }
    },
    {
      "cell_type": "markdown",
      "source": [
        "The heatmap reveals strong positive correlations among \"TotalSteps,\" \"TotalDistance,\" and \"VeryActiveDistance,\" as well as between \"VeryActiveMinutes\" and \"VeryActiveDistance\"; conversely, \"SedentaryMinutes\" shows a strong negative correlation with \"TotalSteps\" and \"TotalDistance,\" indicating that higher sedentary time is associated with lower overall activity."
      ],
      "metadata": {
        "id": "Qp13pnNzphqQ"
      }
    },
    {
      "cell_type": "markdown",
      "source": [
        "##### 3. Will the gained insights help creating a positive business impact?\n",
        "Are there any insights that lead to negative growth? Justify with specific reason."
      ],
      "metadata": {
        "id": "JMzcOPDDphqR"
      }
    },
    {
      "cell_type": "markdown",
      "source": [
        "Yes, the gained insights can positively impact business by informing the development of integrated fitness programs that emphasize reducing sedentary time while increasing active minutes and steps, leading to more comprehensive health solutions and enhanced user engagement; there are no insights that inherently lead to negative growth, as understanding these relationships provides opportunities to design more effective products and interventions for promoting healthier lifestyles."
      ],
      "metadata": {
        "id": "R4Ka1PC2phqR"
      }
    },
    {
      "cell_type": "markdown",
      "source": [
        "# **Conclusion**"
      ],
      "metadata": {
        "id": "gCX9965dhzqZ"
      }
    },
    {
      "cell_type": "markdown",
      "source": [
        "Based on the analysis, we can conclude that most users typically walk between 5,000 to 12,500 steps daily, with a notable peak around 10,000 steps, suggesting it's a common target. Activities such as \"FairlyActiveMinutes\" and \"LightlyActiveMinutes\" show varied distributions, indicating diverse engagement levels in light physical activities. Sedentary behavior dominates the majority of user time, overshadowing more active categories like \"VeryActiveMinutes\" and \"FairlyActiveMinutes.\" There's a strong positive correlation between total steps and total distance, suggesting a direct relationship where increased steps correspond to greater distances covered. Overall, the data highlights varying activity levels and preferences among users, emphasizing the prevalence of sedentary behavior and the light physical activity in daily routines."
      ],
      "metadata": {
        "id": "Fjb1IsQkh3yE"
      }
    }
  ]
}